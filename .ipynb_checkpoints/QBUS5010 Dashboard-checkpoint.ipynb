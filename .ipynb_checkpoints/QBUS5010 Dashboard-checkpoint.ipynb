{
 "cells": [
  {
   "cell_type": "code",
   "execution_count": null,
   "id": "2a704bd9",
   "metadata": {},
   "outputs": [],
   "source": [
    "import dash\n",
    "import dash_core_components as dcc\n",
    "import dash_html_components as html\n",
    "from dash.dependencies import Input, Output\n",
    "from pages import (\n",
    "    overview,\n",
    "    pricePerformance,\n",
    "    portfolioManagement,\n",
    "    feesMins,\n",
    "    distributions,\n",
    "    newsReviews,\n",
    ")\n",
    "\n",
    "app = dash.Dash(\n",
    "    __name__, meta_tags=[{\"name\": \"viewport\", \"content\": \"width=device-width\"}],\n",
    ")\n",
    "app.title = \"Financial Report\"\n",
    "server = app.server\n",
    "\n",
    "# Describe the layout/ UI of the app\n",
    "app.layout = html.Div(\n",
    "    [dcc.Location(id=\"url\", refresh=False), html.Div(id=\"page-content\")]\n",
    ")\n",
    "\n",
    "# Update page\n",
    "@app.callback(Output(\"page-content\", \"children\"), [Input(\"url\", \"pathname\")])\n",
    "def display_page(pathname):\n",
    "    if pathname == \"/dash-financial-report/price-performance\":\n",
    "        return pricePerformance.create_layout(app)\n",
    "    elif pathname == \"/dash-financial-report/portfolio-management\":\n",
    "        return portfolioManagement.create_layout(app)\n",
    "    elif pathname == \"/dash-financial-report/fees\":\n",
    "        return feesMins.create_layout(app)\n",
    "    elif pathname == \"/dash-financial-report/distributions\":\n",
    "        return distributions.create_layout(app)\n",
    "    elif pathname == \"/dash-financial-report/news-and-reviews\":\n",
    "        return newsReviews.create_layout(app)\n",
    "    elif pathname == \"/dash-financial-report/full-view\":\n",
    "        return (\n",
    "            overview.create_layout(app),\n",
    "            pricePerformance.create_layout(app),\n",
    "            portfolioManagement.create_layout(app),\n",
    "            feesMins.create_layout(app),\n",
    "            distributions.create_layout(app),\n",
    "            newsReviews.create_layout(app),\n",
    "        )\n",
    "    else:\n",
    "        return overview.create_layout(app)\n",
    "\n",
    "\n",
    "if __name__ == \"__main__\":\n",
    "    app.run_server(debug=True)"
   ]
  },
  {
   "cell_type": "code",
   "execution_count": null,
   "id": "0711c67e",
   "metadata": {},
   "outputs": [],
   "source": [
    "# https://dash-demo.plotly.host/portfolio-app/?_gl=1*alym0p*_ga*MTk1NzQ0MTM3MC4xNjY2MDU5MDY3*_ga_6G7EE0JNSC*MTY2NjMwNzE5Mi4zLjEuMTY2NjMwNzI1MS4wLjAuMA..\n",
    "\n",
    "# https://github.com/plotly/dash-sample-apps\n",
    "\n",
    "# https://github.com/plotly/dash-sample-apps/blob/main/apps/dash-financial-report/app.py"
   ]
  }
 ],
 "metadata": {
  "kernelspec": {
   "display_name": "Python 3 (ipykernel)",
   "language": "python",
   "name": "python3"
  },
  "language_info": {
   "codemirror_mode": {
    "name": "ipython",
    "version": 3
   },
   "file_extension": ".py",
   "mimetype": "text/x-python",
   "name": "python",
   "nbconvert_exporter": "python",
   "pygments_lexer": "ipython3",
   "version": "3.10.4"
  }
 },
 "nbformat": 4,
 "nbformat_minor": 5
}
